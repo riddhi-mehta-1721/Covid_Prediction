{
 "cells": [
  {
   "cell_type": "markdown",
   "metadata": {},
   "source": [
    "# Import necessary packages"
   ]
  },
  {
   "cell_type": "code",
   "execution_count": 1,
   "metadata": {},
   "outputs": [
    {
     "name": "stderr",
     "output_type": "stream",
     "text": [
      "C:\\Users\\Riddhi\\Anaconda3\\lib\\site-packages\\h5py\\__init__.py:36: FutureWarning: Conversion of the second argument of issubdtype from `float` to `np.floating` is deprecated. In future, it will be treated as `np.float64 == np.dtype(float).type`.\n",
      "  from ._conv import register_converters as _register_converters\n"
     ]
    }
   ],
   "source": [
    "from tensorflow.keras.preprocessing.image import ImageDataGenerator\n",
    "from tensorflow.keras.applications import VGG16\n",
    "from tensorflow.keras.layers import AveragePooling2D\n",
    "from tensorflow.keras.layers import Dropout\n",
    "from tensorflow.keras.layers import Flatten\n",
    "from tensorflow.keras.layers import Dense\n",
    "from tensorflow.keras.layers import Input\n",
    "from tensorflow.keras.models import Model\n",
    "from tensorflow.keras.optimizers import Adam\n",
    "from tensorflow.keras.utils import to_categorical\n",
    "from sklearn.preprocessing import LabelBinarizer, LabelEncoder\n",
    "from sklearn.preprocessing import StandardScaler\n",
    "from sklearn.model_selection import train_test_split\n",
    "from sklearn.metrics import classification_report\n",
    "from sklearn.decomposition import PCA\n",
    "from sklearn.metrics import confusion_matrix\n",
    "from imutils import paths\n",
    "from scipy import misc\n",
    "from skimage import io\n",
    "import matplotlib.pyplot as plt\n",
    "import pandas as pd\n",
    "import numpy as np\n",
    "import cv2\n",
    "import os\n",
    "import warnings\n",
    "warnings.filterwarnings(\"ignore\")\n",
    "# initialize the initial learning rate, number of epochs to train for,\n",
    "# and batch size\n",
    "INIT_LR = 1e-3\n",
    "EPOCHS = 20\n",
    "BS = 8"
   ]
  },
  {
   "cell_type": "markdown",
   "metadata": {},
   "source": [
    "# Reading Image Paths"
   ]
  },
  {
   "cell_type": "code",
   "execution_count": 2,
   "metadata": {},
   "outputs": [],
   "source": [
    "imagePaths = list(paths.list_images(\"D:/RIDDHI MEHTA/MPSTME/Third Year/Semester VI/Predictive Modelling/Project/keras-covid-19/dataset\"))"
   ]
  },
  {
   "cell_type": "code",
   "execution_count": 3,
   "metadata": {},
   "outputs": [
    {
     "data": {
      "text/plain": [
       "['D:/RIDDHI MEHTA/MPSTME/Third Year/Semester VI/Predictive Modelling/Project/keras-covid-19/dataset\\\\covid\\\\1-s2.0-S0140673620303706-fx1_lrg.jpg',\n",
       " 'D:/RIDDHI MEHTA/MPSTME/Third Year/Semester VI/Predictive Modelling/Project/keras-covid-19/dataset\\\\covid\\\\1-s2.0-S0929664620300449-gr2_lrg-a.jpg',\n",
       " 'D:/RIDDHI MEHTA/MPSTME/Third Year/Semester VI/Predictive Modelling/Project/keras-covid-19/dataset\\\\covid\\\\1-s2.0-S0929664620300449-gr2_lrg-b.jpg',\n",
       " 'D:/RIDDHI MEHTA/MPSTME/Third Year/Semester VI/Predictive Modelling/Project/keras-covid-19/dataset\\\\covid\\\\1-s2.0-S0929664620300449-gr2_lrg-c.jpg',\n",
       " 'D:/RIDDHI MEHTA/MPSTME/Third Year/Semester VI/Predictive Modelling/Project/keras-covid-19/dataset\\\\covid\\\\1-s2.0-S0929664620300449-gr2_lrg-d.jpg',\n",
       " 'D:/RIDDHI MEHTA/MPSTME/Third Year/Semester VI/Predictive Modelling/Project/keras-covid-19/dataset\\\\covid\\\\auntminnie-a-2020_01_28_23_51_6665_2020_01_28_Vietnam_coronavirus.jpeg',\n",
       " 'D:/RIDDHI MEHTA/MPSTME/Third Year/Semester VI/Predictive Modelling/Project/keras-covid-19/dataset\\\\covid\\\\auntminnie-b-2020_01_28_23_51_6665_2020_01_28_Vietnam_coronavirus.jpeg',\n",
       " 'D:/RIDDHI MEHTA/MPSTME/Third Year/Semester VI/Predictive Modelling/Project/keras-covid-19/dataset\\\\covid\\\\auntminnie-c-2020_01_28_23_51_6665_2020_01_28_Vietnam_coronavirus.jpeg',\n",
       " 'D:/RIDDHI MEHTA/MPSTME/Third Year/Semester VI/Predictive Modelling/Project/keras-covid-19/dataset\\\\covid\\\\auntminnie-d-2020_01_28_23_51_6665_2020_01_28_Vietnam_coronavirus.jpeg',\n",
       " 'D:/RIDDHI MEHTA/MPSTME/Third Year/Semester VI/Predictive Modelling/Project/keras-covid-19/dataset\\\\covid\\\\lancet-case2a.jpg',\n",
       " 'D:/RIDDHI MEHTA/MPSTME/Third Year/Semester VI/Predictive Modelling/Project/keras-covid-19/dataset\\\\covid\\\\lancet-case2b.jpg',\n",
       " 'D:/RIDDHI MEHTA/MPSTME/Third Year/Semester VI/Predictive Modelling/Project/keras-covid-19/dataset\\\\covid\\\\nCoV-radiol.2020200269.fig1-day7.jpeg',\n",
       " 'D:/RIDDHI MEHTA/MPSTME/Third Year/Semester VI/Predictive Modelling/Project/keras-covid-19/dataset\\\\covid\\\\nejmc2001573_f1a.jpeg',\n",
       " 'D:/RIDDHI MEHTA/MPSTME/Third Year/Semester VI/Predictive Modelling/Project/keras-covid-19/dataset\\\\covid\\\\nejmc2001573_f1b.jpeg',\n",
       " 'D:/RIDDHI MEHTA/MPSTME/Third Year/Semester VI/Predictive Modelling/Project/keras-covid-19/dataset\\\\covid\\\\nejmoa2001191_f1-PA.jpeg',\n",
       " 'D:/RIDDHI MEHTA/MPSTME/Third Year/Semester VI/Predictive Modelling/Project/keras-covid-19/dataset\\\\covid\\\\nejmoa2001191_f3-PA.jpeg',\n",
       " 'D:/RIDDHI MEHTA/MPSTME/Third Year/Semester VI/Predictive Modelling/Project/keras-covid-19/dataset\\\\covid\\\\nejmoa2001191_f4.jpeg',\n",
       " 'D:/RIDDHI MEHTA/MPSTME/Third Year/Semester VI/Predictive Modelling/Project/keras-covid-19/dataset\\\\covid\\\\nejmoa2001191_f5-PA.jpeg',\n",
       " 'D:/RIDDHI MEHTA/MPSTME/Third Year/Semester VI/Predictive Modelling/Project/keras-covid-19/dataset\\\\covid\\\\radiol.2020200490.fig3.jpeg',\n",
       " 'D:/RIDDHI MEHTA/MPSTME/Third Year/Semester VI/Predictive Modelling/Project/keras-covid-19/dataset\\\\covid\\\\radiopedia-covid-19-pneumonia-2.jpg',\n",
       " 'D:/RIDDHI MEHTA/MPSTME/Third Year/Semester VI/Predictive Modelling/Project/keras-covid-19/dataset\\\\covid\\\\ryct.2020200028.fig1a.jpeg',\n",
       " 'D:/RIDDHI MEHTA/MPSTME/Third Year/Semester VI/Predictive Modelling/Project/keras-covid-19/dataset\\\\covid\\\\ryct.2020200034.fig2.jpeg',\n",
       " 'D:/RIDDHI MEHTA/MPSTME/Third Year/Semester VI/Predictive Modelling/Project/keras-covid-19/dataset\\\\covid\\\\ryct.2020200034.fig5-day0.jpeg',\n",
       " 'D:/RIDDHI MEHTA/MPSTME/Third Year/Semester VI/Predictive Modelling/Project/keras-covid-19/dataset\\\\covid\\\\ryct.2020200034.fig5-day4.jpeg',\n",
       " 'D:/RIDDHI MEHTA/MPSTME/Third Year/Semester VI/Predictive Modelling/Project/keras-covid-19/dataset\\\\covid\\\\ryct.2020200034.fig5-day7.jpeg',\n",
       " 'D:/RIDDHI MEHTA/MPSTME/Third Year/Semester VI/Predictive Modelling/Project/keras-covid-19/dataset\\\\normal\\\\IM-0033-0001-0001.jpeg',\n",
       " 'D:/RIDDHI MEHTA/MPSTME/Third Year/Semester VI/Predictive Modelling/Project/keras-covid-19/dataset\\\\normal\\\\IM-0240-0001.jpeg',\n",
       " 'D:/RIDDHI MEHTA/MPSTME/Third Year/Semester VI/Predictive Modelling/Project/keras-covid-19/dataset\\\\normal\\\\IM-0466-0001.jpeg',\n",
       " 'D:/RIDDHI MEHTA/MPSTME/Third Year/Semester VI/Predictive Modelling/Project/keras-covid-19/dataset\\\\normal\\\\NORMAL2-IM-0315-0001.jpeg',\n",
       " 'D:/RIDDHI MEHTA/MPSTME/Third Year/Semester VI/Predictive Modelling/Project/keras-covid-19/dataset\\\\normal\\\\NORMAL2-IM-0696-0001.jpeg',\n",
       " 'D:/RIDDHI MEHTA/MPSTME/Third Year/Semester VI/Predictive Modelling/Project/keras-covid-19/dataset\\\\normal\\\\NORMAL2-IM-0869-0001.jpeg',\n",
       " 'D:/RIDDHI MEHTA/MPSTME/Third Year/Semester VI/Predictive Modelling/Project/keras-covid-19/dataset\\\\normal\\\\NORMAL2-IM-1179-0001.jpeg',\n",
       " 'D:/RIDDHI MEHTA/MPSTME/Third Year/Semester VI/Predictive Modelling/Project/keras-covid-19/dataset\\\\normal\\\\person1102_bacteria_3043.jpeg',\n",
       " 'D:/RIDDHI MEHTA/MPSTME/Third Year/Semester VI/Predictive Modelling/Project/keras-covid-19/dataset\\\\normal\\\\person1290_virus_2215.jpeg',\n",
       " 'D:/RIDDHI MEHTA/MPSTME/Third Year/Semester VI/Predictive Modelling/Project/keras-covid-19/dataset\\\\normal\\\\person1558_bacteria_4066.jpeg',\n",
       " 'D:/RIDDHI MEHTA/MPSTME/Third Year/Semester VI/Predictive Modelling/Project/keras-covid-19/dataset\\\\normal\\\\person1599_virus_2776.jpeg',\n",
       " 'D:/RIDDHI MEHTA/MPSTME/Third Year/Semester VI/Predictive Modelling/Project/keras-covid-19/dataset\\\\normal\\\\person1830_bacteria_4693.jpeg',\n",
       " 'D:/RIDDHI MEHTA/MPSTME/Third Year/Semester VI/Predictive Modelling/Project/keras-covid-19/dataset\\\\normal\\\\person1935_bacteria_4849.jpeg',\n",
       " 'D:/RIDDHI MEHTA/MPSTME/Third Year/Semester VI/Predictive Modelling/Project/keras-covid-19/dataset\\\\normal\\\\person1_bacteria_2.jpeg',\n",
       " 'D:/RIDDHI MEHTA/MPSTME/Third Year/Semester VI/Predictive Modelling/Project/keras-covid-19/dataset\\\\normal\\\\person259_bacteria_1220.jpeg',\n",
       " 'D:/RIDDHI MEHTA/MPSTME/Third Year/Semester VI/Predictive Modelling/Project/keras-covid-19/dataset\\\\normal\\\\person339_bacteria_1574.jpeg',\n",
       " 'D:/RIDDHI MEHTA/MPSTME/Third Year/Semester VI/Predictive Modelling/Project/keras-covid-19/dataset\\\\normal\\\\person378_virus_761.jpeg',\n",
       " 'D:/RIDDHI MEHTA/MPSTME/Third Year/Semester VI/Predictive Modelling/Project/keras-covid-19/dataset\\\\normal\\\\person438_bacteria_1893.jpeg',\n",
       " 'D:/RIDDHI MEHTA/MPSTME/Third Year/Semester VI/Predictive Modelling/Project/keras-covid-19/dataset\\\\normal\\\\person525_bacteria_2216.jpeg',\n",
       " 'D:/RIDDHI MEHTA/MPSTME/Third Year/Semester VI/Predictive Modelling/Project/keras-covid-19/dataset\\\\normal\\\\person612_bacteria_2478.jpeg',\n",
       " 'D:/RIDDHI MEHTA/MPSTME/Third Year/Semester VI/Predictive Modelling/Project/keras-covid-19/dataset\\\\normal\\\\person651_bacteria_2543.jpeg',\n",
       " 'D:/RIDDHI MEHTA/MPSTME/Third Year/Semester VI/Predictive Modelling/Project/keras-covid-19/dataset\\\\normal\\\\person925_virus_1582.jpeg',\n",
       " 'D:/RIDDHI MEHTA/MPSTME/Third Year/Semester VI/Predictive Modelling/Project/keras-covid-19/dataset\\\\normal\\\\person934_virus_1595.jpeg',\n",
       " 'D:/RIDDHI MEHTA/MPSTME/Third Year/Semester VI/Predictive Modelling/Project/keras-covid-19/dataset\\\\normal\\\\person939_bacteria_2864.jpeg',\n",
       " 'D:/RIDDHI MEHTA/MPSTME/Third Year/Semester VI/Predictive Modelling/Project/keras-covid-19/dataset\\\\normal\\\\person989_virus_1667.jpeg']"
      ]
     },
     "execution_count": 3,
     "metadata": {},
     "output_type": "execute_result"
    }
   ],
   "source": [
    "imagePaths"
   ]
  },
  {
   "cell_type": "markdown",
   "metadata": {},
   "source": [
    "# Machine Learning"
   ]
  },
  {
   "cell_type": "markdown",
   "metadata": {},
   "source": [
    "## Reading Images and Pre-processing"
   ]
  },
  {
   "cell_type": "code",
   "execution_count": 4,
   "metadata": {},
   "outputs": [],
   "source": [
    "def machine_learning(paths):\n",
    "    \n",
    "    data_ml = pd.DataFrame()\n",
    "    labels = []\n",
    "    \n",
    "    imagePaths = paths\n",
    "    \n",
    "    for imagePath in imagePaths:\n",
    "        \n",
    "        label = imagePath.split('\\\\')[-2]\n",
    "        image = pd.DataFrame(misc.imresize(cv2.cvtColor(cv2.imread(imagePath),cv2.COLOR_BGR2GRAY),(224,224)).reshape(1,-1))\n",
    "\n",
    "        data_ml = pd.concat([data_ml, image])\n",
    "        labels.append(label)\n",
    "          \n",
    "    data_ml = StandardScaler().fit_transform(data_ml) \n",
    "    pca = PCA(n_components=50)\n",
    "    data_ml = pca.fit_transform(data_ml)\n",
    "    data_ml = pd.DataFrame(data_ml)\n",
    "    \n",
    "    labels = list(labels)\n",
    "    data_ml[\"label\"] = labels\n",
    "    data_ml[\"label\"] = LabelEncoder().fit_transform(data_ml[\"label\"])\n",
    "    \n",
    "    \n",
    "    return data_ml\n",
    "\n",
    "data_ml = machine_learning(imagePaths)"
   ]
  },
  {
   "cell_type": "markdown",
   "metadata": {},
   "source": [
    "## Train Test Split"
   ]
  },
  {
   "cell_type": "code",
   "execution_count": 5,
   "metadata": {},
   "outputs": [],
   "source": [
    "X_train, X_test, Y_train, Y_test = train_test_split(data_ml.iloc[:,:-1], data_ml[\"label\"], \n",
    "                                                    test_size=0.20, stratify=data_ml[\"label\"], random_state=42)"
   ]
  },
  {
   "cell_type": "markdown",
   "metadata": {},
   "source": [
    "## Logistic Regression"
   ]
  },
  {
   "cell_type": "code",
   "execution_count": 6,
   "metadata": {},
   "outputs": [],
   "source": [
    "from sklearn.linear_model import LogisticRegression\n",
    "\n",
    "logr = LogisticRegression()\n",
    "logr.fit(X_train, Y_train)\n",
    "Y_pred = logr.predict(X_test)"
   ]
  },
  {
   "cell_type": "code",
   "execution_count": 7,
   "metadata": {},
   "outputs": [
    {
     "name": "stdout",
     "output_type": "stream",
     "text": [
      "              precision    recall  f1-score   support\n",
      "\n",
      "           0       1.00      1.00      1.00         5\n",
      "           1       1.00      1.00      1.00         5\n",
      "\n",
      "    accuracy                           1.00        10\n",
      "   macro avg       1.00      1.00      1.00        10\n",
      "weighted avg       1.00      1.00      1.00        10\n",
      "\n"
     ]
    }
   ],
   "source": [
    "print(classification_report(Y_test, Y_pred))"
   ]
  },
  {
   "cell_type": "markdown",
   "metadata": {},
   "source": [
    "## Support Vector Classification"
   ]
  },
  {
   "cell_type": "code",
   "execution_count": 8,
   "metadata": {},
   "outputs": [],
   "source": [
    "from sklearn.svm import SVC\n",
    "svc = SVC()\n",
    "svc.fit(X_train, Y_train)\n",
    "Y_pred = svc.predict(X_test)"
   ]
  },
  {
   "cell_type": "code",
   "execution_count": 9,
   "metadata": {},
   "outputs": [
    {
     "name": "stdout",
     "output_type": "stream",
     "text": [
      "              precision    recall  f1-score   support\n",
      "\n",
      "           0       1.00      0.20      0.33         5\n",
      "           1       0.56      1.00      0.71         5\n",
      "\n",
      "    accuracy                           0.60        10\n",
      "   macro avg       0.78      0.60      0.52        10\n",
      "weighted avg       0.78      0.60      0.52        10\n",
      "\n"
     ]
    }
   ],
   "source": [
    "print(classification_report(Y_test, Y_pred))"
   ]
  },
  {
   "cell_type": "markdown",
   "metadata": {},
   "source": [
    "## Decision Trees Classification"
   ]
  },
  {
   "cell_type": "code",
   "execution_count": 10,
   "metadata": {},
   "outputs": [],
   "source": [
    "from sklearn.tree import DecisionTreeClassifier\n",
    "dtc = DecisionTreeClassifier()\n",
    "dtc.fit(X_train, Y_train)\n",
    "Y_pred = dtc.predict(X_test)"
   ]
  },
  {
   "cell_type": "code",
   "execution_count": 11,
   "metadata": {},
   "outputs": [
    {
     "name": "stdout",
     "output_type": "stream",
     "text": [
      "              precision    recall  f1-score   support\n",
      "\n",
      "           0       1.00      0.60      0.75         5\n",
      "           1       0.71      1.00      0.83         5\n",
      "\n",
      "    accuracy                           0.80        10\n",
      "   macro avg       0.86      0.80      0.79        10\n",
      "weighted avg       0.86      0.80      0.79        10\n",
      "\n"
     ]
    }
   ],
   "source": [
    "print(classification_report(Y_test, Y_pred))"
   ]
  },
  {
   "cell_type": "markdown",
   "metadata": {},
   "source": [
    "## Random Forests "
   ]
  },
  {
   "cell_type": "code",
   "execution_count": 12,
   "metadata": {},
   "outputs": [],
   "source": [
    "from sklearn.ensemble import RandomForestClassifier\n",
    "rfc = RandomForestClassifier()\n",
    "rfc.fit(X_train, Y_train)\n",
    "Y_pred = rfc.predict(X_test)"
   ]
  },
  {
   "cell_type": "code",
   "execution_count": 13,
   "metadata": {},
   "outputs": [
    {
     "name": "stdout",
     "output_type": "stream",
     "text": [
      "              precision    recall  f1-score   support\n",
      "\n",
      "           0       1.00      1.00      1.00         5\n",
      "           1       1.00      1.00      1.00         5\n",
      "\n",
      "    accuracy                           1.00        10\n",
      "   macro avg       1.00      1.00      1.00        10\n",
      "weighted avg       1.00      1.00      1.00        10\n",
      "\n"
     ]
    }
   ],
   "source": [
    "print(classification_report(Y_test, Y_pred))"
   ]
  },
  {
   "cell_type": "markdown",
   "metadata": {},
   "source": [
    "## Summary of all Machine Learning alogrithms"
   ]
  },
  {
   "cell_type": "code",
   "execution_count": 14,
   "metadata": {},
   "outputs": [
    {
     "data": {
      "text/html": [
       "<div>\n",
       "<style scoped>\n",
       "    .dataframe tbody tr th:only-of-type {\n",
       "        vertical-align: middle;\n",
       "    }\n",
       "\n",
       "    .dataframe tbody tr th {\n",
       "        vertical-align: top;\n",
       "    }\n",
       "\n",
       "    .dataframe thead th {\n",
       "        text-align: right;\n",
       "    }\n",
       "</style>\n",
       "<table border=\"1\" class=\"dataframe\">\n",
       "  <thead>\n",
       "    <tr style=\"text-align: right;\">\n",
       "      <th></th>\n",
       "      <th>name</th>\n",
       "      <th>train_acc</th>\n",
       "      <th>test_acc</th>\n",
       "    </tr>\n",
       "  </thead>\n",
       "  <tbody>\n",
       "    <tr>\n",
       "      <th>0</th>\n",
       "      <td>Logistic Regression</td>\n",
       "      <td>1.0</td>\n",
       "      <td>1.0</td>\n",
       "    </tr>\n",
       "    <tr>\n",
       "      <th>1</th>\n",
       "      <td>Support Vector Classifier</td>\n",
       "      <td>1.0</td>\n",
       "      <td>0.6</td>\n",
       "    </tr>\n",
       "    <tr>\n",
       "      <th>2</th>\n",
       "      <td>Decision Tree Classifier</td>\n",
       "      <td>1.0</td>\n",
       "      <td>0.8</td>\n",
       "    </tr>\n",
       "    <tr>\n",
       "      <th>3</th>\n",
       "      <td>Random Forests Classifier</td>\n",
       "      <td>1.0</td>\n",
       "      <td>1.0</td>\n",
       "    </tr>\n",
       "  </tbody>\n",
       "</table>\n",
       "</div>"
      ],
      "text/plain": [
       "                        name  train_acc  test_acc\n",
       "0        Logistic Regression        1.0       1.0\n",
       "1  Support Vector Classifier        1.0       0.6\n",
       "2   Decision Tree Classifier        1.0       0.8\n",
       "3  Random Forests Classifier        1.0       1.0"
      ]
     },
     "execution_count": 14,
     "metadata": {},
     "output_type": "execute_result"
    }
   ],
   "source": [
    "name = [\"Logistic Regression\",\"Support Vector Classifier\",\"Decision Tree Classifier\",\"Random Forests Classifier\"]\n",
    "train_acc = [logr.score(X_train, Y_train),svc.score(X_train, Y_train),dtc.score(X_train, Y_train),rfc.score(X_train, Y_train)]\n",
    "test_acc = [logr.score(X_test, Y_test),svc.score(X_test, Y_test),dtc.score(X_test, Y_test),rfc.score(X_test, Y_test)]\n",
    "summary = pd.DataFrame()\n",
    "summary[\"name\"] = name\n",
    "summary[\"train_acc\"] = train_acc\n",
    "summary[\"test_acc\"] = test_acc\n",
    "summary"
   ]
  },
  {
   "cell_type": "markdown",
   "metadata": {},
   "source": [
    "# DEEP LEARNING"
   ]
  },
  {
   "cell_type": "markdown",
   "metadata": {},
   "source": [
    "## Reading Images and Pre-Processing"
   ]
  },
  {
   "cell_type": "code",
   "execution_count": 15,
   "metadata": {},
   "outputs": [],
   "source": [
    "def deep_learning(paths):\n",
    "    \n",
    "    data_dl = []\n",
    "    labels = []\n",
    "    \n",
    "    imagePaths = paths\n",
    "    \n",
    "    for imagePath in imagePaths:\n",
    "        \n",
    "        label = imagePath.split('\\\\')[-2]\n",
    "        image = cv2.imread(imagePath)\n",
    "        image = cv2.cvtColor(image, cv2.COLOR_BGR2RGB)\n",
    "        image = cv2.resize(image, (224, 224))\n",
    "        \n",
    "        data_dl.append(image)\n",
    "        labels.append(label)\n",
    "        \n",
    "    data_dl = np.array(data_dl) / 255.0\n",
    "    labels = np.array(labels)\n",
    "    \n",
    "    return data_dl, labels\n",
    "\n",
    "data_dl, labels = deep_learning(imagePaths)"
   ]
  },
  {
   "cell_type": "markdown",
   "metadata": {},
   "source": [
    "## Train Test Split"
   ]
  },
  {
   "cell_type": "code",
   "execution_count": 16,
   "metadata": {},
   "outputs": [],
   "source": [
    "lb = LabelBinarizer()\n",
    "labels = lb.fit_transform(labels)\n",
    "labels = to_categorical(labels)\n",
    "X_train, X_test, Y_train, Y_test = train_test_split(data_dl, labels, test_size=0.20, stratify=labels, random_state=42)"
   ]
  },
  {
   "cell_type": "markdown",
   "metadata": {},
   "source": [
    "## CNN"
   ]
  },
  {
   "cell_type": "code",
   "execution_count": 17,
   "metadata": {},
   "outputs": [],
   "source": [
    "baseModel = VGG16(weights=\"imagenet\", include_top=False, input_tensor=Input(shape=(224, 224, 3)))"
   ]
  },
  {
   "cell_type": "code",
   "execution_count": 18,
   "metadata": {},
   "outputs": [],
   "source": [
    "headModel = baseModel.output\n",
    "headModel = AveragePooling2D(pool_size=(4, 4))(headModel)\n",
    "headModel = Flatten(name=\"flatten\")(headModel)\n",
    "headModel = Dense(64, activation=\"relu\")(headModel)\n",
    "headModel = Dropout(0.5)(headModel)\n",
    "headModel = Dense(2, activation=\"softmax\")(headModel)"
   ]
  },
  {
   "cell_type": "code",
   "execution_count": 19,
   "metadata": {},
   "outputs": [],
   "source": [
    "model = Model(inputs=baseModel.input, outputs=headModel)"
   ]
  },
  {
   "cell_type": "code",
   "execution_count": 20,
   "metadata": {},
   "outputs": [],
   "source": [
    "for layer in baseModel.layers:\n",
    "    layer.trainable = False"
   ]
  },
  {
   "cell_type": "code",
   "execution_count": 21,
   "metadata": {},
   "outputs": [],
   "source": [
    "opt = Adam(lr=INIT_LR, decay=INIT_LR / EPOCHS)\n",
    "model.compile(loss=\"binary_crossentropy\", optimizer=opt, metrics=[\"accuracy\"])"
   ]
  },
  {
   "cell_type": "code",
   "execution_count": 22,
   "metadata": {},
   "outputs": [],
   "source": [
    "trainAug = ImageDataGenerator(rotation_range=15, fill_mode=\"nearest\")"
   ]
  },
  {
   "cell_type": "code",
   "execution_count": 23,
   "metadata": {},
   "outputs": [
    {
     "name": "stdout",
     "output_type": "stream",
     "text": [
      "Epoch 1/20\n",
      "5/5 [==============================] - 29s 6s/step - loss: 0.8508 - acc: 0.4750 - val_loss: 0.7270 - val_acc: 0.5000\n",
      "Epoch 2/20\n",
      "5/5 [==============================] - 26s 5s/step - loss: 0.7690 - acc: 0.5250 - val_loss: 0.6960 - val_acc: 0.4000\n",
      "Epoch 3/20\n",
      "5/5 [==============================] - 26s 5s/step - loss: 0.6225 - acc: 0.6500 - val_loss: 0.6729 - val_acc: 0.4000\n",
      "Epoch 4/20\n",
      "5/5 [==============================] - 25s 5s/step - loss: 0.6979 - acc: 0.6000 - val_loss: 0.6518 - val_acc: 0.8000\n",
      "Epoch 5/20\n",
      "5/5 [==============================] - 25s 5s/step - loss: 0.6958 - acc: 0.6250 - val_loss: 0.6406 - val_acc: 0.7000\n",
      "Epoch 6/20\n",
      "5/5 [==============================] - 25s 5s/step - loss: 0.6325 - acc: 0.6250 - val_loss: 0.6098 - val_acc: 0.8000\n",
      "Epoch 7/20\n",
      "5/5 [==============================] - 27s 5s/step - loss: 0.5339 - acc: 0.8000 - val_loss: 0.5964 - val_acc: 0.8000\n",
      "Epoch 8/20\n",
      "5/5 [==============================] - 28s 6s/step - loss: 0.5213 - acc: 0.7500 - val_loss: 0.5768 - val_acc: 0.8000\n",
      "Epoch 9/20\n",
      "5/5 [==============================] - 28s 6s/step - loss: 0.5939 - acc: 0.6250 - val_loss: 0.5649 - val_acc: 0.8000\n",
      "Epoch 10/20\n",
      "5/5 [==============================] - 27s 5s/step - loss: 0.5861 - acc: 0.6750 - val_loss: 0.5460 - val_acc: 0.8000\n",
      "Epoch 11/20\n",
      "5/5 [==============================] - 33s 7s/step - loss: 0.4868 - acc: 0.8500 - val_loss: 0.5305 - val_acc: 0.8000\n",
      "Epoch 12/20\n",
      "5/5 [==============================] - 30s 6s/step - loss: 0.5386 - acc: 0.8500 - val_loss: 0.5097 - val_acc: 0.9000\n",
      "Epoch 13/20\n",
      "5/5 [==============================] - 31s 6s/step - loss: 0.4941 - acc: 0.7750 - val_loss: 0.4877 - val_acc: 0.8000\n",
      "Epoch 14/20\n",
      "5/5 [==============================] - 27s 5s/step - loss: 0.4453 - acc: 0.8250 - val_loss: 0.4729 - val_acc: 0.8000\n",
      "Epoch 15/20\n",
      "5/5 [==============================] - 29s 6s/step - loss: 0.4556 - acc: 0.8000 - val_loss: 0.4529 - val_acc: 0.9000\n",
      "Epoch 16/20\n",
      "5/5 [==============================] - 29s 6s/step - loss: 0.4246 - acc: 0.8500 - val_loss: 0.4414 - val_acc: 0.9000\n",
      "Epoch 17/20\n",
      "5/5 [==============================] - 30s 6s/step - loss: 0.3823 - acc: 0.8750 - val_loss: 0.4316 - val_acc: 0.8000\n",
      "Epoch 18/20\n",
      "5/5 [==============================] - 28s 6s/step - loss: 0.3674 - acc: 0.8750 - val_loss: 0.4165 - val_acc: 0.9000\n",
      "Epoch 19/20\n",
      "5/5 [==============================] - 26s 5s/step - loss: 0.3926 - acc: 0.8750 - val_loss: 0.3994 - val_acc: 0.9000\n",
      "Epoch 20/20\n",
      "5/5 [==============================] - 31s 6s/step - loss: 0.3530 - acc: 0.9500 - val_loss: 0.3846 - val_acc: 0.9000\n"
     ]
    }
   ],
   "source": [
    "H = model.fit_generator(trainAug.flow(X_train, Y_train, batch_size=BS),\n",
    "    steps_per_epoch=len(X_train) // BS,\n",
    "    validation_data=(X_test, Y_test),\n",
    "    validation_steps=len(X_test) // BS,\n",
    "    epochs=EPOCHS)"
   ]
  },
  {
   "cell_type": "code",
   "execution_count": 24,
   "metadata": {},
   "outputs": [],
   "source": [
    "predIdxs = model.predict(X_test, batch_size=BS)"
   ]
  },
  {
   "cell_type": "code",
   "execution_count": 25,
   "metadata": {},
   "outputs": [
    {
     "name": "stdout",
     "output_type": "stream",
     "text": [
      "              precision    recall  f1-score   support\n",
      "\n",
      "       covid       0.83      1.00      0.91         5\n",
      "      normal       1.00      0.80      0.89         5\n",
      "\n",
      "    accuracy                           0.90        10\n",
      "   macro avg       0.92      0.90      0.90        10\n",
      "weighted avg       0.92      0.90      0.90        10\n",
      "\n"
     ]
    }
   ],
   "source": [
    "print(classification_report(Y_test.argmax(axis = 1), predIdxs.argmax(axis = 1), target_names=lb.classes_))"
   ]
  },
  {
   "cell_type": "code",
   "execution_count": 26,
   "metadata": {},
   "outputs": [
    {
     "name": "stdout",
     "output_type": "stream",
     "text": [
      "[[5 0]\n",
      " [1 4]]\n",
      "accuracy: 0.9000\n",
      "sensitivity: 1.0000\n",
      "specificity: 0.8000\n"
     ]
    }
   ],
   "source": [
    "cm = confusion_matrix(Y_test.argmax(axis=1), predIdxs.argmax(axis = 1))\n",
    "total = sum(sum(cm))\n",
    "acc = (cm[0, 0] + cm[1, 1]) / total\n",
    "sensitivity = cm[0, 0] / (cm[0, 0] + cm[0, 1])\n",
    "specificity = cm[1, 1] / (cm[1, 0] + cm[1, 1])\n",
    "\n",
    "# show the confusion matrix, accuracy, sensitivity, and specificity\n",
    "print(cm)\n",
    "print(\"accuracy: {:.4f}\".format(acc))\n",
    "print(\"sensitivity: {:.4f}\".format(sensitivity))\n",
    "print(\"specificity: {:.4f}\".format(specificity))"
   ]
  },
  {
   "cell_type": "markdown",
   "metadata": {},
   "source": [
    "## Accuracy and Loss Plots"
   ]
  },
  {
   "cell_type": "code",
   "execution_count": 27,
   "metadata": {},
   "outputs": [
    {
     "data": {
      "text/plain": [
       "<matplotlib.legend.Legend at 0x2838002c3c8>"
      ]
     },
     "execution_count": 27,
     "metadata": {},
     "output_type": "execute_result"
    },
    {
     "data": {
      "image/png": "[encoded data removed]",
      "text/plain": [
       "<Figure size 432x288 with 1 Axes>"
      ]
     },
     "metadata": {},
     "output_type": "display_data"
    }
   ],
   "source": [
    "# plot the training loss and accuracy\n",
    "N = EPOCHS\n",
    "plt.style.use(\"ggplot\")\n",
    "plt.figure()\n",
    "plt.plot(np.arange(0, N), H.history[\"loss\"], label=\"train_loss\")\n",
    "plt.plot(np.arange(0, N), H.history[\"val_loss\"], label=\"val_loss\")\n",
    "plt.plot(np.arange(0, N), H.history[\"acc\"], label=\"train_acc\")\n",
    "plt.plot(np.arange(0, N), H.history[\"val_acc\"], label=\"val_acc\")\n",
    "plt.title(\"Training Loss and Accuracy on COVID-19 Dataset\")\n",
    "plt.xlabel(\"Epoch #\")\n",
    "plt.ylabel(\"Loss/Accuracy\")\n",
    "plt.legend(loc=\"lower left\")"
   ]
  },
  {
   "cell_type": "markdown",
   "metadata": {},
   "source": [
    "# THE END"
   ]
  }
 ],
 "metadata": {
  "kernelspec": {
   "display_name": "Python 3",
   "language": "python",
   "name": "python3"
  },
  "language_info": {
   "codemirror_mode": {
    "name": "ipython",
    "version": 3
   },
   "file_extension": ".py",
   "mimetype": "text/x-python",
   "name": "python",
   "nbconvert_exporter": "python",
   "pygments_lexer": "ipython3",
   "version": "3.6.5"
  }
 },
 "nbformat": 4,
 "nbformat_minor": 2
}
